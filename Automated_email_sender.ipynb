{
  "cells": [
    {
      "cell_type": "code",
      "source": [
        "import smtplib as smtp\n",
        "from email.mime.multipart import MIMEMultipart\n",
        "from email.mime.text import MIMEText\n",
        "from email.mime.base import MIMEBase\n",
        "from email import encoders\n",
        "\n",
        "connection = smtp.SMTP_SSL('smtp.gmail.com', 465)\n",
        "\n",
        "email_addr = 'farheensk009@gmail.com'\n",
        "email_passwd = 'zuvhjqalnxdgbapb'\n",
        "connection.login(email_addr, email_passwd)\n",
        "connection.sendmail(from_addr=email_addr, to_addrs='www.farheen6@gmail.com', msg=\"Sent from my IDE. Hehe\")\n",
        "\n",
        "\n",
        "\n",
        "try:\n",
        "    server=smtp.SMTP('smtp.gmail.com',587)\n",
        "\n",
        "    server.starttls()\n",
        "\n",
        "\n",
        "    server.login(email_addr,email_passwd)\n",
        "\n",
        "    otp=''.join([str(random.randint(0,9)) for i in range(4)])\n",
        "    msg='Hello, Your OTP is '+str(otp)\n",
        "    sender=''  #write email id of sender\n",
        "    receiver='' #write email of receiver\n",
        "\n",
        "    server.sendmail(email_addr,'www.farheen6@gmail.com',msg)\n",
        "    server.quit()\n",
        "except smtp.SMTPException:\n",
        "    print('Error')\n",
        "msg = MIMEMultipart()\n",
        "\n",
        "msg['From'] =email_addr\n",
        "msg['To'] = email_passwd\n",
        "msg['Subject'] = \"Automated mail\"\n",
        "\n",
        "body = \"Hello!Below is the attached file.\"\n",
        "\n",
        "\n",
        "msg.attach(MIMEText(body, 'plain'))\n",
        "\n",
        "filename = \"test.csv\"\n",
        "attachment = open(\"/content/sample_data/mnist_test.csv\", \"rb\")\n",
        "\n",
        "part = MIMEBase('application', 'octet-stream')\n",
        "part.set_payload((attachment).read())\n",
        "encoders.encode_base64(part)\n",
        "part.add_header('Content-Disposition', \"attachment; filename= %s\" % filename)\n",
        "\n",
        "msg.attach(part)\n",
        "smtp = smtplib.SMTP(host=\"smtp.gmail.com\", port= 587)\n",
        "smtp.starttls()\n",
        "smtp.login(email_addr,email_passwd)\n",
        "smtp.sendmail(email_addr,'www.farheen6@gmail.com', msg.as_string())\n",
        "smtp.close()\n",
        "connection.close()\n",
        "print('Email Sent')"
      ],
      "metadata": {
        "colab": {
          "base_uri": "https://localhost:8080/"
        },
        "id": "z6tnQGVFdetH",
        "outputId": "16a0c13e-5c5b-4238-fcfd-1b664e364371"
      },
      "execution_count": 19,
      "outputs": [
        {
          "output_type": "stream",
          "name": "stdout",
          "text": [
            "Email Sent\n"
          ]
        }
      ]
    }
  ],
  "metadata": {
    "colab": {
      "provenance": []
    },
    "kernelspec": {
      "display_name": "Python 3",
      "name": "python3"
    },
    "language_info": {
      "name": "python"
    }
  },
  "nbformat": 4,
  "nbformat_minor": 0
}